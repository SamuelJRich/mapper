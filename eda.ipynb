{
 "cells": [
  {
   "cell_type": "code",
   "execution_count": 2,
   "id": "2367dbcd",
   "metadata": {},
   "outputs": [],
   "source": [
    "import pandas as pd\n",
    "import torch\n",
    "from torch.utils.data import Dataset, DataLoader\n"
   ]
  },
  {
   "cell_type": "markdown",
   "id": "354aae4a",
   "metadata": {},
   "source": [
    "### Initial EDA of the dataset"
   ]
  },
  {
   "cell_type": "code",
   "execution_count": 8,
   "id": "c70eb24b",
   "metadata": {},
   "outputs": [
    {
     "name": "stdout",
     "output_type": "stream",
     "text": [
      "                       Year(s)                           Country  \\\n",
      "0   November 2012-January 2013                            Uganda   \n",
      "1           June-November 2012  Democratic Republic of the Congo   \n",
      "2            June-October 2012                            Uganda   \n",
      "3                     May 2011                            Uganda   \n",
      "4  December 2008-February 2009  Democratic Republic of the Congo   \n",
      "\n",
      "      Ebola subtype  Reported number of human cases  \\\n",
      "0       Sudan virus                               6   \n",
      "1  Bundibugyo virus                              36   \n",
      "2       Sudan virus                              11   \n",
      "3       Sudan virus                               1   \n",
      "4       Zaire virus                              32   \n",
      "\n",
      "   Reported number of deaths among cases  Reported % of deaths among cases  \n",
      "0                                      3                             0.500  \n",
      "1                                     13                             0.361  \n",
      "2                                      4                             0.364  \n",
      "3                                      1                             1.000  \n",
      "4                                     15                             0.470  \n"
     ]
    },
    {
     "name": "stderr",
     "output_type": "stream",
     "text": [
      "<>:1: SyntaxWarning: invalid escape sequence '\\e'\n",
      "<>:1: SyntaxWarning: invalid escape sequence '\\e'\n",
      "C:\\Users\\rich4\\AppData\\Local\\Temp\\ipykernel_6772\\1321044442.py:1: SyntaxWarning: invalid escape sequence '\\e'\n",
      "  df = pd.read_excel(\"datasets\\ebola-outbreaks-before-2014.xlsx\")\n"
     ]
    }
   ],
   "source": [
    "df = pd.read_excel(\"datasets\\ebola-outbreaks-before-2014.xlsx\")\n",
    "\n",
    "print(df.head())"
   ]
  },
  {
   "cell_type": "code",
   "execution_count": 9,
   "id": "484f890e",
   "metadata": {},
   "outputs": [
    {
     "name": "stdout",
     "output_type": "stream",
     "text": [
      "<class 'pandas.core.frame.DataFrame'>\n",
      "RangeIndex: 33 entries, 0 to 32\n",
      "Data columns (total 6 columns):\n",
      " #   Column                                 Non-Null Count  Dtype  \n",
      "---  ------                                 --------------  -----  \n",
      " 0   Year(s)                                33 non-null     object \n",
      " 1   Country                                33 non-null     object \n",
      " 2   Ebola subtype                          33 non-null     object \n",
      " 3   Reported number of human cases         33 non-null     int64  \n",
      " 4   Reported number of deaths among cases  33 non-null     int64  \n",
      " 5   Reported % of deaths among cases       33 non-null     float64\n",
      "dtypes: float64(1), int64(2), object(3)\n",
      "memory usage: 1.7+ KB\n",
      "None\n"
     ]
    }
   ],
   "source": [
    "print(df.info())"
   ]
  },
  {
   "cell_type": "code",
   "execution_count": 10,
   "id": "4278a26c",
   "metadata": {},
   "outputs": [],
   "source": [
    "df = df.fillna(0)"
   ]
  },
  {
   "cell_type": "code",
   "execution_count": 11,
   "id": "73f262f0",
   "metadata": {},
   "outputs": [
    {
     "name": "stdout",
     "output_type": "stream",
     "text": [
      "<class 'pandas.core.frame.DataFrame'>\n",
      "RangeIndex: 33 entries, 0 to 32\n",
      "Data columns (total 6 columns):\n",
      " #   Column                                 Non-Null Count  Dtype  \n",
      "---  ------                                 --------------  -----  \n",
      " 0   Year(s)                                33 non-null     object \n",
      " 1   Country                                33 non-null     object \n",
      " 2   Ebola subtype                          33 non-null     object \n",
      " 3   Reported number of human cases         33 non-null     int64  \n",
      " 4   Reported number of deaths among cases  33 non-null     int64  \n",
      " 5   Reported % of deaths among cases       33 non-null     float64\n",
      "dtypes: float64(1), int64(2), object(3)\n",
      "memory usage: 1.7+ KB\n",
      "None\n"
     ]
    }
   ],
   "source": [
    "print(df.info())"
   ]
  },
  {
   "cell_type": "code",
   "execution_count": null,
   "id": "82e547a6",
   "metadata": {},
   "outputs": [],
   "source": []
  }
 ],
 "metadata": {
  "kernelspec": {
   "display_name": "Python 3",
   "language": "python",
   "name": "python3"
  },
  "language_info": {
   "codemirror_mode": {
    "name": "ipython",
    "version": 3
   },
   "file_extension": ".py",
   "mimetype": "text/x-python",
   "name": "python",
   "nbconvert_exporter": "python",
   "pygments_lexer": "ipython3",
   "version": "3.12.1"
  }
 },
 "nbformat": 4,
 "nbformat_minor": 5
}
